{
 "cells": [
  {
   "cell_type": "code",
   "execution_count": 1,
   "metadata": {},
   "outputs": [],
   "source": [
    "import os   #used for directory work\n",
    "import matplotlib.pyplot as plt #used for creating plots\n",
    "import pandas as pd\n",
    "import numpy as np\n",
    "%matplotlib inline"
   ]
  },
  {
   "cell_type": "code",
   "execution_count": 3,
   "metadata": {},
   "outputs": [],
   "source": [
    "def text_finder(path):\n",
    "    txt_files=[]\n",
    "    all_files = os.listdir(path) #tells what directory the files are in\n",
    "    for i in all_files: #reading only the .txt files \n",
    "        if i[-4:] == \".txt\":\n",
    "            txt_files.append(i)\n",
    "    txt_files.sort() #alphabetizes them\n",
    "    return txt_files\n",
    "\n",
    "def file_to_df(path):\n",
    "    df= pd.read_csv(path,na_values = ['NAN', \"00nan\", \"NaN\"], sep=\" \")\n",
    "    \n",
    "    return df"
   ]
  },
  {
   "cell_type": "code",
   "execution_count": 61,
   "metadata": {},
   "outputs": [],
   "source": [
    "path = \"/home/joey/Desktop/10X10_Truss_SERDP_Burns/JS_Cleaned_Data/Full-Timestamp/Burn-02/sonics/\"\n",
    "txt_files = text_finder(path)[:16]\n"
   ]
  },
  {
   "cell_type": "code",
   "execution_count": 74,
   "metadata": {
    "scrolled": true
   },
   "outputs": [],
   "source": [
    "def find_continuous( col,burn, index = 0 ):\n",
    "    path = \"/home/joey/Desktop/10X10_Truss_SERDP_Burns/JS_Cleaned_Data/Full-Timestamp/Burn-\"+burn+\"/sonics/\"\n",
    "    txt_files = text_finder(path)[:16]\n",
    "\n",
    "    check, index = True, 0\n",
    "    while check:\n",
    "        for f in range(16):\n",
    "            df=file_to_df(path+txt_files[f])\n",
    "\n",
    "            lst =pd.Series(df[col][index:index+6000]).isnull()\n",
    "            if len(lst.unique())==1:\n",
    "                if f == 15:\n",
    "                    #print(\"Passed\", index)\n",
    "                    check = False\n",
    "                    break\n",
    "\n",
    "                else:\n",
    "                    continue\n",
    "            i_lst = []    \n",
    "            if len(lst.unique())!=1:\n",
    "                for i in range(index,index+6000):\n",
    "                    if lst[i]==True:\n",
    "                        index= i+1\n",
    "                        i_lst.append(i)\n",
    "                index = max(i_lst)+1\n",
    "                break\n",
    "    return index\n",
    "\n",
    "def index_getter(burn): \n",
    "    check = True\n",
    "    while check:\n",
    "        U_start = find_continuous(\"U\",burn)\n",
    "        V_start = find_continuous(\"V\",burn, U_start)\n",
    "        if V_start > U_start:\n",
    "            continue\n",
    "        W_start = find_continuous(\"W\", burn, V_start)\n",
    "        if W_start > V_start:\n",
    "            continue\n",
    "        T_start = find_continuous(\"T\",burn, W_start)\n",
    "        if T_start > W_start:\n",
    "            continue\n",
    "        check = False\n",
    "    return T_start"
   ]
  },
  {
   "cell_type": "code",
   "execution_count": 78,
   "metadata": {},
   "outputs": [
    {
     "name": "stdout",
     "output_type": "stream",
     "text": [
      "3795\n"
     ]
    }
   ],
   "source": [
    "#indx_01 = index_getter(\"01\")\n",
    "indx_02 =index_getter(\"02\")\n",
    "print(indx_02)"
   ]
  },
  {
   "cell_type": "code",
   "execution_count": 139,
   "metadata": {},
   "outputs": [],
   "source": [
    "burn = \"02\"\n",
    "indx_02 =index_getter(burn) \n",
    "path = \"/home/joey/Desktop/10X10_Truss_SERDP_Burns/JS_Cleaned_Data/Full-Timestamp/Burn-\"+burn+\"/sonics/\"\n",
    "txt_files = text_finder(path)[:16]\n",
    "\n",
    "df = file_to_df(path+txt_files[0])\n",
    "Hr_lst, Min_lst, Sec_lst = [], [], []\n",
    "for i in range(indx_02,indx_02+6000):\n",
    "    Hr_lst.append(int(df[\"TIMESTAMP\"][i][11:13]))\n",
    "    Min_lst.append(int(df[\"TIMESTAMP\"][i][14:16]))\n",
    "    Sec_lst.append(float(df[\"TIMESTAMP\"][i][17:21]))\n",
    "    \n",
    "d ={\"Hr\": Hr_lst, \"Min\": Min_lst, \"Sec\": Sec_lst}\n",
    "df_U, df_V = pd.DataFrame(d), pd.DataFrame(d)\n",
    "df_W, df_T = pd.DataFrame(d), pd.DataFrame(d)\n",
    "\n",
    "for f in range(16):\n",
    "    df_U[txt_files[f][:2]+\"_U\"] =list(file_to_df(path+txt_files[f])[\"U\"][indx_02:indx_02+6000])\n",
    "    df_V[txt_files[f][:2]+\"_V\"] =list(file_to_df(path+txt_files[f])[\"V\"][indx_02:indx_02+6000])\n",
    "    df_W[txt_files[f][:2]+\"_W\"] =list(file_to_df(path+txt_files[f])[\"W\"][indx_02:indx_02+6000])\n",
    "    df_T[txt_files[f][:2]+\"_T\"] =list(file_to_df(path+txt_files[f])[\"T\"][indx_02:indx_02+6000])\n"
   ]
  },
  {
   "cell_type": "code",
   "execution_count": 147,
   "metadata": {},
   "outputs": [],
   "source": [
    "df_U.to_csv(\"10min-Cont-Sample-Burn-\"+burn+\"-U\", sep=' ',index=False)\n",
    "df_V.to_csv(\"10min-Cont-Sample-Burn-\"+burn+\"-V\", sep=' ',index=False)\n",
    "df_W.to_csv(\"10min-Cont-Sample-Burn-\"+burn+\"-W\", sep=' ',index=False)\n",
    "df_T.to_csv(\"10min-Cont-Sample-Burn-\"+burn+\"-T\", sep=' ',index=False)"
   ]
  },
  {
   "cell_type": "code",
   "execution_count": 126,
   "metadata": {
    "scrolled": false
   },
   "outputs": [
    {
     "data": {
      "text/html": [
       "<div>\n",
       "<style scoped>\n",
       "    .dataframe tbody tr th:only-of-type {\n",
       "        vertical-align: middle;\n",
       "    }\n",
       "\n",
       "    .dataframe tbody tr th {\n",
       "        vertical-align: top;\n",
       "    }\n",
       "\n",
       "    .dataframe thead th {\n",
       "        text-align: right;\n",
       "    }\n",
       "</style>\n",
       "<table border=\"1\" class=\"dataframe\">\n",
       "  <thead>\n",
       "    <tr style=\"text-align: right;\">\n",
       "      <th></th>\n",
       "      <th>Hr</th>\n",
       "      <th>Min</th>\n",
       "      <th>Sec</th>\n",
       "    </tr>\n",
       "  </thead>\n",
       "  <tbody>\n",
       "    <tr>\n",
       "      <th>0</th>\n",
       "      <td>11</td>\n",
       "      <td>10</td>\n",
       "      <td>46.4</td>\n",
       "    </tr>\n",
       "    <tr>\n",
       "      <th>1</th>\n",
       "      <td>11</td>\n",
       "      <td>10</td>\n",
       "      <td>46.5</td>\n",
       "    </tr>\n",
       "    <tr>\n",
       "      <th>2</th>\n",
       "      <td>11</td>\n",
       "      <td>10</td>\n",
       "      <td>46.6</td>\n",
       "    </tr>\n",
       "    <tr>\n",
       "      <th>3</th>\n",
       "      <td>11</td>\n",
       "      <td>10</td>\n",
       "      <td>46.7</td>\n",
       "    </tr>\n",
       "    <tr>\n",
       "      <th>4</th>\n",
       "      <td>11</td>\n",
       "      <td>10</td>\n",
       "      <td>46.8</td>\n",
       "    </tr>\n",
       "    <tr>\n",
       "      <th>...</th>\n",
       "      <td>...</td>\n",
       "      <td>...</td>\n",
       "      <td>...</td>\n",
       "    </tr>\n",
       "    <tr>\n",
       "      <th>5995</th>\n",
       "      <td>11</td>\n",
       "      <td>20</td>\n",
       "      <td>45.9</td>\n",
       "    </tr>\n",
       "    <tr>\n",
       "      <th>5996</th>\n",
       "      <td>11</td>\n",
       "      <td>20</td>\n",
       "      <td>46.0</td>\n",
       "    </tr>\n",
       "    <tr>\n",
       "      <th>5997</th>\n",
       "      <td>11</td>\n",
       "      <td>20</td>\n",
       "      <td>46.1</td>\n",
       "    </tr>\n",
       "    <tr>\n",
       "      <th>5998</th>\n",
       "      <td>11</td>\n",
       "      <td>20</td>\n",
       "      <td>46.2</td>\n",
       "    </tr>\n",
       "    <tr>\n",
       "      <th>5999</th>\n",
       "      <td>11</td>\n",
       "      <td>20</td>\n",
       "      <td>46.3</td>\n",
       "    </tr>\n",
       "  </tbody>\n",
       "</table>\n",
       "<p>6000 rows × 3 columns</p>\n",
       "</div>"
      ],
      "text/plain": [
       "      Hr  Min   Sec\n",
       "0     11   10  46.4\n",
       "1     11   10  46.5\n",
       "2     11   10  46.6\n",
       "3     11   10  46.7\n",
       "4     11   10  46.8\n",
       "...   ..  ...   ...\n",
       "5995  11   20  45.9\n",
       "5996  11   20  46.0\n",
       "5997  11   20  46.1\n",
       "5998  11   20  46.2\n",
       "5999  11   20  46.3\n",
       "\n",
       "[6000 rows x 3 columns]"
      ]
     },
     "execution_count": 126,
     "metadata": {},
     "output_type": "execute_result"
    }
   ],
   "source": [
    "\n",
    "df_test = pd.DataFrame(d)\n",
    "df_test\n",
    "#df_test = pd.DataFrame(data = np.array([Hr_lst, Min_lst, Sec_lst]), columns = [\"Hr\", \"Min\", \"Sec\"])\n",
    "#df_T[\"Hr\"] = Hr_lst\n",
    "#np.array([Hr_lst, Min_lst, Sec_lst])"
   ]
  },
  {
   "cell_type": "code",
   "execution_count": 117,
   "metadata": {},
   "outputs": [
    {
     "ename": "NameError",
     "evalue": "name 'df_test' is not defined",
     "output_type": "error",
     "traceback": [
      "\u001b[0;31m---------------------------------------------------------------------------\u001b[0m",
      "\u001b[0;31mNameError\u001b[0m                                 Traceback (most recent call last)",
      "\u001b[0;32m<ipython-input-117-5418cae61a6f>\u001b[0m in \u001b[0;36m<module>\u001b[0;34m\u001b[0m\n\u001b[0;32m----> 1\u001b[0;31m \u001b[0mdf_test\u001b[0m\u001b[0;34m\u001b[0m\u001b[0;34m\u001b[0m\u001b[0m\n\u001b[0m",
      "\u001b[0;31mNameError\u001b[0m: name 'df_test' is not defined"
     ]
    }
   ],
   "source": [
    "df_test"
   ]
  },
  {
   "cell_type": "code",
   "execution_count": null,
   "metadata": {},
   "outputs": [],
   "source": []
  }
 ],
 "metadata": {
  "kernelspec": {
   "display_name": "Python 3",
   "language": "python",
   "name": "python3"
  },
  "language_info": {
   "codemirror_mode": {
    "name": "ipython",
    "version": 3
   },
   "file_extension": ".py",
   "mimetype": "text/x-python",
   "name": "python",
   "nbconvert_exporter": "python",
   "pygments_lexer": "ipython3",
   "version": "3.7.4"
  }
 },
 "nbformat": 4,
 "nbformat_minor": 2
}
