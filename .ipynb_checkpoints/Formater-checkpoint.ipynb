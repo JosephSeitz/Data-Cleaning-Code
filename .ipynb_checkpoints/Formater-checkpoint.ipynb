{
 "cells": [
  {
   "cell_type": "code",
   "execution_count": 3,
   "metadata": {},
   "outputs": [],
   "source": [
    "import pandas as pd\n",
    "import os\n",
    "import numpy as np"
   ]
  },
  {
   "cell_type": "code",
   "execution_count": 4,
   "metadata": {},
   "outputs": [],
   "source": [
    "def file_finder(path,f_type = \".txt\" ):\n",
    "    txt_files=[]\n",
    "    all_files = os.listdir(path) #tells what directory the files are in\n",
    "    for i in all_files: #reading only the .txt files \n",
    "        if i[-4:] == f_type:\n",
    "            txt_files.append(i)\n",
    "    txt_files.sort() #alphabetizes them\n",
    "    return txt_files"
   ]
  },
  {
   "cell_type": "code",
   "execution_count": 5,
   "metadata": {},
   "outputs": [],
   "source": [
    "#path = \"/Users/joeyp/Desktop/Data_Cleaning_Code/March-2019-Large-Scale-Experiment-Cleaned-Data/\"\n",
    "path = \"/home/joey/Desktop/Data_Cleaning_Code/March-2019-Large-Scale-Experiment-Cleaned-Data/\"\n",
    "burn_files =file_finder(path)"
   ]
  },
  {
   "cell_type": "code",
   "execution_count": 22,
   "metadata": {},
   "outputs": [],
   "source": [
    "#burn_files =burn_files[:3]+burn_files[4:]\n",
    "burn_files=burn_files[3:]"
   ]
  },
  {
   "cell_type": "code",
   "execution_count": 16,
   "metadata": {},
   "outputs": [],
   "source": [
    "columns = ['U(19m)', 'V(19m)', 'W(19m)','T(19m)', 'U(9.5m)', 'V(9.5m)', 'W(9.5m)',\\\n",
    "     'T(9.5m)', 'U(3m)', 'V(3m)','W(3m)', 'T(3m)', 'TC(15m)', 'TC(10m)', \\\n",
    "    'TC(5m)', 'TC(2.5m)','TC(1.25m)', 'TC(0.5m)', 'TC(0.25m)']"
   ]
  },
  {
   "cell_type": "code",
   "execution_count": 17,
   "metadata": {},
   "outputs": [],
   "source": [
    "def formater(df,columns):\n",
    "    for col in columns:\n",
    "        lst_df=list(df[str(col)])\n",
    "        for i in range(len(lst_df)):\n",
    "            lst_df[i] = \"{:2.2f}\".format(float(lst_df[i])).zfill(5)\n",
    "        df[col]= lst_df\n",
    "        \n",
    "    year_lst, month_lst,day_lst= list(df[\"YYYY\"]), list(df[\"MM\"]), list(df[\"DD\"])\n",
    "    hour_lst, min_lst, second_lst = list(df[\"Hr\"]), list(df[\"Min\"]), list(df[\"Sec\"])\n",
    "    for i in range(len(df)):\n",
    "        year_lst[i]  = \"{:.0f}\".format(float(year_lst[i])).zfill(4)\n",
    "        month_lst[i] = \"{:.0f}\".format(float(month_lst[i])).zfill(2)\n",
    "        day_lst[i]   = \"{:.0f}\".format(float(day_lst[i])).zfill(2)\n",
    "        hour_lst[i]  = \"{:.0f}\".format(float(hour_lst[i])).zfill(2)\n",
    "        min_lst[i]   = \"{:.0f}\".format(float(min_lst[i])).zfill(2)\n",
    "        second_lst[i]= \"{:.1f}\".format(float(second_lst[i])).zfill(4)\n",
    "    \n",
    "    df[\"YYYY\"] = year_lst\n",
    "    df[\"MM\"]   = month_lst\n",
    "    df[\"DD\"]   = day_lst\n",
    "    df[\"Hr\"] = hour_lst\n",
    "    df[\"Min\"]  = min_lst\n",
    "    df[\"Sec\"]  = second_lst\n",
    "    \n",
    "    return df"
   ]
  },
  {
   "cell_type": "code",
   "execution_count": 24,
   "metadata": {},
   "outputs": [
    {
     "name": "stdout",
     "output_type": "stream",
     "text": [
      "burn-north_tower.txt\n",
      "burn-west_tower.txt\n",
      "post-burn-control_tower.txt\n",
      "post-burn-east_tower.txt\n",
      "post-burn-flux_tower.txt\n",
      "post-burn-north_tower.txt\n",
      "post-burn-west_tower.txt\n",
      "pre-burn-control_tower.txt\n",
      "pre-burn-east_tower.txt\n",
      "pre-burn-flux_tower.txt\n",
      "pre-burn-north_tower.txt\n",
      "pre-burn-west_tower.txt\n"
     ]
    }
   ],
   "source": [
    "burn_files\n",
    "for fl in burn_files:\n",
    "    print(fl)\n",
    "    df = formater(pd.read_csv(path+fl, sep=\"\\t\", na_values = \"00nan\"),columns)\n",
    "    df.to_csv(path+fl, sep=\" \",index=False)"
   ]
  },
  {
   "cell_type": "code",
   "execution_count": 7,
   "metadata": {},
   "outputs": [],
   "source": [
    "col = ['U(21.6m)', 'V(21.6m)', 'W(21.6m)', 'T(21.6m)', 'U(9.1m)', 'V(9.1m)', 'W(9.1m)', 'T(9.1m)', 'U(3.4m)', 'V(3.4m)', 'W(3.4m)', 'T(3.4m)', 'TC(10.0m)', 'TC(9.0m)', 'TC(8.0m)', 'TC(7.0m)', 'TC(6.0m)', 'TC(5.0m)', 'TC(4.0m)', 'TC(3.0m)', 'TC(2.0m)', 'TC(1.0m)', 'TC(0.5m)']\n",
    "df = formater(pd.read_csv(\"burn-mobile_tower.txt\", sep=\" \", na_values = \"00nan\"),col)\n",
    "df.to_csv(\"burn-mobile_tower.txt\", sep=\" \",index=False) \n",
    "    "
   ]
  },
  {
   "cell_type": "code",
   "execution_count": null,
   "metadata": {},
   "outputs": [],
   "source": []
  }
 ],
 "metadata": {
  "kernelspec": {
   "display_name": "Python 3",
   "language": "python",
   "name": "python3"
  },
  "language_info": {
   "codemirror_mode": {
    "name": "ipython",
    "version": 3
   },
   "file_extension": ".py",
   "mimetype": "text/x-python",
   "name": "python",
   "nbconvert_exporter": "python",
   "pygments_lexer": "ipython3",
   "version": "3.7.3"
  }
 },
 "nbformat": 4,
 "nbformat_minor": 2
}
