{
 "cells": [
  {
   "cell_type": "code",
   "execution_count": 2,
   "metadata": {},
   "outputs": [],
   "source": [
    "### Tools used for clean up\n",
    "import numpy as np\n",
    "import pandas as pd\n",
    "import os"
   ]
  },
  {
   "cell_type": "code",
   "execution_count": null,
   "metadata": {},
   "outputs": [],
   "source": [
    "def cutter(df, time_start, time_end):\n",
    "\n",
    "    s_index = df.index[df[\"TIMESTAMP\"]==time_start].tolist()[-1]\n",
    "    e_index = df.index[df[\"TIMESTAMP\"]==time_end].tolist()[0]\n",
    "    df = df.truncate(before=s_index, after= e_index)\n",
    "    df=df.reset_index(drop = True)\n",
    "    df = df.set_index(\"TIMESTAMP\")\n",
    "    return df"
   ]
  },
  {
   "cell_type": "code",
   "execution_count": null,
   "metadata": {},
   "outputs": [],
   "source": [
    "def cooked_data(path, sonic):\n",
    "    df = pd.read_csv(path+sonic, na_values='NAN',header=None)\n",
    "    df.fillna(value=np.nan, inplace=True)\n",
    "\n",
    "\n",
    "\n",
    "    time, date,data = [], [], [] \n",
    "    for i in range(len(df)):\n",
    "        time.append(df[0][i][-10:].replace(\" \",\":\").replace(\"::\",\"\"))\n",
    "        #date\n",
    "        date.append(df[0][i][-21:-11].replace(\" \",\"-\"))\n",
    "        #data seperated with comma's\n",
    "        data.append(df[0][i][10:-25].replace(\"   \",\",\").replace(\" \",\"\"))\n",
    "    time_stamp = []\n",
    "    for j in range(len(df)):\n",
    "        time_stamp.append(pd.Timestamp(str(date[j])+\" \"+time[j]))\n",
    "    \n",
    "    df_cook = pd.DataFrame()\n",
    "    df_cook[\"TIMESTAMP\"] = time_stamp\n",
    "    df_cook['TIMESTAMP'] = pd.to_datetime(df_cook['TIMESTAMP'])\n",
    "    columns=['date']\n",
    "    U,V,W,T = [],[],[],[]\n",
    "    for d in data:\n",
    "        U.append(-1*float(d.split(\",\")[0]))\n",
    "        V.append(-1*float(d.split(\",\")[1]))\n",
    "        W.append(float(d.split(\",\")[2]))\n",
    "        T.append(float(d.split(\",\")[3]))\n",
    "\n",
    "    df_cook[\"U\"] = U\n",
    "    df_cook[\"V\"] = V\n",
    "    df_cook[\"W\"] = W\n",
    "    df_cook[\"T\"] = T\n",
    "    \n",
    "    \n",
    "    return df_cook"
   ]
  },
  {
   "cell_type": "code",
   "execution_count": null,
   "metadata": {},
   "outputs": [],
   "source": [
    "path='http://35.12.130.8/study/charney/burn3_00_plt_syn/'\n",
    "sonc_headers = [\"U\", \"V\", \"W\", \"T\" ]"
   ]
  },
  {
   "cell_type": "code",
   "execution_count": null,
   "metadata": {},
   "outputs": [],
   "source": [
    "path_1=\"/home/joey/Desktop/Forestry/File_Clean_Up/10X10_Truss_Burns_May_2018/Burn-1/sonics/\"\n"
   ]
  },
  {
   "cell_type": "code",
   "execution_count": null,
   "metadata": {},
   "outputs": [],
   "source": [
    "burn = \"Burn-1.txt\"\n",
    "ext = \"_UVWT_\"\n",
    "sonic_list=[\"A1\", \"A2\", \"A3\", \"A4\", \"B1\", \"B2\", \"B3\", \"B4\", \"C1\",\"C2\",\"C3\",\"C4\",\"D1\",\"D2\",\"D3\",\"D4\"]\n",
    "ckd_list=sonic_list.copy()\n",
    "cleaned_lst = sonic_list.copy()\n",
    "for i in range(len(sonic_list)):\n",
    "    ckd_list[i]= sonic_list[i] + \"UVWTfft1.txt\"\n",
    "    cleaned_lst[i] = sonic_list[i] + ext + burn"
   ]
  },
  {
   "cell_type": "code",
   "execution_count": null,
   "metadata": {
    "scrolled": true
   },
   "outputs": [],
   "source": [
    "#a1_ck_df = cooked_data(path, ckd_list[12])\n",
    "a1_cl_df = cleaned_data(path_1, cleaned_lst[12])\n",
    "a1_cl_df"
   ]
  },
  {
   "cell_type": "code",
   "execution_count": null,
   "metadata": {},
   "outputs": [],
   "source": [
    "t_s, t_e = a1_cl_df[\"TIMESTAMP\"][0], a1_cl_df[\"TIMESTAMP\"][len(a1_cl_df)-1]"
   ]
  },
  {
   "cell_type": "code",
   "execution_count": null,
   "metadata": {},
   "outputs": [],
   "source": [
    "a1_ck_df = cutter(cooked_data(path, ckd_list[12]),t_s,t_e)\n",
    "a1_cl_df = cutter(a1_cl_df,t_s,t_e)"
   ]
  },
  {
   "cell_type": "code",
   "execution_count": null,
   "metadata": {
    "scrolled": true
   },
   "outputs": [],
   "source": [
    "true= a1_ck_df==a1_cl_df\n",
    "indx = []\n",
    "for i in range(len(true)):\n",
    "    if true[\"U\"][i] ==False or true[\"V\"][i] == False or true['W'][i]== False or true['T'][i]==False:\n",
    "        #print(true.ix[[i]])\n",
    "        print(true.ix[[i]],a1_ck_df.ix[[i]],a1_cl_df.ix[[i]])\n",
    "        indx.append(i)\n",
    "print(indx)\n",
    "print(len(indx))"
   ]
  },
  {
   "cell_type": "code",
   "execution_count": null,
   "metadata": {
    "scrolled": true
   },
   "outputs": [],
   "source": [
    "### Remove the bad points\n",
    "\n",
    "a1_cl_df=a1_cl_df.drop(a1_cl_df.index[indx])\n",
    "a1_ck_df=a1_ck_df.drop(a1_ck_df.index[indx])"
   ]
  },
  {
   "cell_type": "code",
   "execution_count": null,
   "metadata": {},
   "outputs": [],
   "source": [
    "true= a1_ck_df==a1_cl_df\n",
    "index = []\n",
    "for i in range(len(true)):\n",
    "    if true[\"U\"][i] ==False or true[\"V\"][i] == False or true['W'][i]== False or true['T'][i]==False:\n",
    "        #print(true.ix[[i]])\n",
    "        print(true.ix[[i]],a1_ck_df.ix[[i]],a1_cl_df.ix[[i]])\n",
    "    "
   ]
  },
  {
   "cell_type": "code",
   "execution_count": null,
   "metadata": {
    "scrolled": true
   },
   "outputs": [],
   "source": [
    "\n",
    "print(len(a1_ck_df)/10/60)\n",
    "a1_ck_df.describe()"
   ]
  },
  {
   "cell_type": "code",
   "execution_count": null,
   "metadata": {},
   "outputs": [],
   "source": [
    "a1_cl_df.describe()"
   ]
  },
  {
   "cell_type": "code",
   "execution_count": null,
   "metadata": {},
   "outputs": [],
   "source": [
    "def cleaned_data(path, sonic):\n",
    "    df  = pd.read_csv(path+sonic, na_values='NAN',sep=\"\\t\")\n",
    "\n",
    "    hr = list(df[\"Hr\"])\n",
    "    mn = list(df[\"Min\"])\n",
    "    sc = list(df[\"Sec\"])\n",
    "    yr = list(df[\"YYYY\"])\n",
    "    mt = list(df[\"MM\"])\n",
    "    dy = list(df[\"DD\"])\n",
    "\n",
    "    time = []\n",
    "    for i in range(len(hr)):\n",
    "        time.append(pd.Timestamp(str(yr[i])+\"-\"+str(mt[i])+\"-\"+str(dy[i])+' '+str(hr[i])+\":\"+str(mn[i])+\":\"+str(sc[i])))\n",
    "\n",
    "    df_cleaned = pd.DataFrame()\n",
    "    df_cleaned[\"TIMESTAMP\"] = time\n",
    "    df_cleaned[\"U\"] = df[\"U\"] \n",
    "    df_cleaned[\"V\"] = df[\"U\"]\n",
    "    df_cleaned[\"W\"] = df[\"U\"]\n",
    "    df_cleaned[\"T\"] = df[\"T\"]\n",
    "    return df_cleaned, df"
   ]
  },
  {
   "cell_type": "code",
   "execution_count": null,
   "metadata": {},
   "outputs": [],
   "source": [
    "cl_df,df = cleaned_data(path_1, \"WGNover_UVWT_Burn-1.txt\")"
   ]
  },
  {
   "cell_type": "code",
   "execution_count": null,
   "metadata": {
    "scrolled": true
   },
   "outputs": [],
   "source": [
    "indx = []\n",
    "m_speed = 50\n",
    "min_T = -40\n",
    "\n",
    "for i in range(len(cl_df)):\n",
    "    if np.abs(cl_df[\"U\"][i]) > m_speed or np.abs(cl_df[\"V\"][i])> m_speed or \\\n",
    "            np.abs(cl_df['W'][i])> m_speed or cl_df['T'][i]< min_T:\n",
    "        print(\"--\"*30)\n",
    "        print(cl_df.iloc[[i]])\n",
    "        indx.append(i)\n",
    "if len(indx) ==0:\n",
    "    print(\"Data fits these limits\")\n",
    "else:\n",
    "    remove = input(\"Would you like to remove this data? (y/n):\")\n",
    "if remove.lower() == \"y\":\n",
    "    df = df.drop(df.index[indx])\n",
    "return df"
   ]
  },
  {
   "cell_type": "code",
   "execution_count": null,
   "metadata": {},
   "outputs": [],
   "source": [
    "### Remove the bad points\n",
    "cl_df=cl_df.drop(cl_df.index[indx])\n",
    "df = df.drop(df.index[indx])"
   ]
  },
  {
   "cell_type": "code",
   "execution_count": null,
   "metadata": {
    "scrolled": true
   },
   "outputs": [],
   "source": [
    "cl_df[\"U\"] *=-1"
   ]
  },
  {
   "cell_type": "code",
   "execution_count": null,
   "metadata": {},
   "outputs": [],
   "source": [
    "cl_df.describe()"
   ]
  },
  {
   "cell_type": "code",
   "execution_count": null,
   "metadata": {},
   "outputs": [],
   "source": [
    "df_tc  = pd.read_csv('/home/joey/Desktop/Forestry/File_Clean_Up/10X10_Truss_Burns_May_2018/Burn-1/thermal_couples/B3_thermal_couple_Burn-1.txt', na_values='NAN',sep=\"\\t\")"
   ]
  },
  {
   "cell_type": "code",
   "execution_count": null,
   "metadata": {},
   "outputs": [],
   "source": [
    "df_tc.describe()"
   ]
  },
  {
   "cell_type": "code",
   "execution_count": null,
   "metadata": {},
   "outputs": [],
   "source": []
  },
  {
   "cell_type": "code",
   "execution_count": null,
   "metadata": {
    "scrolled": true
   },
   "outputs": [],
   "source": [
    "temp=[]\n",
    "for i in range(6):\n",
    "    temp.append(list(df_tc.iloc[:,i]))"
   ]
  },
  {
   "cell_type": "code",
   "execution_count": null,
   "metadata": {},
   "outputs": [],
   "source": []
  },
  {
   "cell_type": "code",
   "execution_count": 30,
   "metadata": {},
   "outputs": [
    {
     "name": "stdout",
     "output_type": "stream",
     "text": [
      "Default Corrections: -1.5*U, -1*V, Max Wind Speed=|50| m/s, Min Temperature = -40 C  \n",
      "Would you like to change these corrections? (y/n): y\n",
      "What to multiply the U values by?:-1\n",
      "What to multiply the V values by?:-1\n",
      "What bounds do you want for the wind speed? (m/s):50\n",
      "What is the minimum temperatue? (C):-40\n",
      "Would you like to change the NaN's to a different value? (y/n):n\n",
      "------------------------------ LINE: 19184 ------------------------------\n",
      "            U     V      W      T  YYYY  MM  DD  Hr  Min   Sec\n",
      "19184 -134.15 -0.75 -62.65  16.95  2018   3   6  11   36  25.2\n",
      "------------------------------ LINE: 19185 ------------------------------\n",
      "           U       V      W       T  YYYY  MM  DD  Hr  Min   Sec\n",
      "19185 -65.63  112.31  61.62  242.96  2018   3   6  11   36  25.3\n",
      "Would you like to remove these lines? (y/n):y\n"
     ]
    }
   ],
   "source": [
    "path = \"/home/joey/Desktop/Forestry/File_Clean_Up/10X10_Truss_Burns_May_2018/Burn-2/sonics/\"\n",
    "sonic = \"B1_UVWT_Burn-2.txt\" \n",
    "df  = pd.read_csv(path+sonic, na_values='NAN',sep=\"\\t\")\n",
    "\n",
    "#wind speed correction\n",
    "m_speed,min_T = 50, -40\n",
    "u_fctr, v_fctr = -1, -1\n",
    "\n",
    "fmt = \"Default Corrections: {}*U, {}*V, Max Wind Speed=|{}| m/s, Min Temperature = {} C  \" \n",
    "print(fmt.format(u_fctr,v_fctr,m_speed,min_T))\n",
    "\n",
    "nw_corct = input(\"Would you like to change these corrections? (y/n): \")\n",
    "if nw_corct.lower() == \"y\":\n",
    "    u_fctr = float(input(\"What to multiply the U values by?:\"))\n",
    "    v_fctr = float(input(\"What to multiply the V values by?:\"))\n",
    "    m_speed = float(input(\"What bounds do you want for the wind speed? (m/s):\"))\n",
    "    min_T = float(input(\"What is the minimum temperatue? (C):\"))\n",
    "\n",
    "fill_nan = np.nan\n",
    "change_nan = input(\"Would you like to change the NaN's to a different value? (y/n):\")\n",
    "if change_nan == \"y\":\n",
    "    fill_nan = input(\"What to replace NaN's with? ex: 9999:\")\n",
    "\n",
    "##For loop for all the sonics\n",
    "df[\"U\"] *= u_fctr\n",
    "df[\"V\"] *= v_fctr\n",
    "\n",
    "indx = []\n",
    "for i in range(len(df)):\n",
    "    if np.abs(df[\"U\"][i]) > m_speed or np.abs(df[\"V\"][i])> m_speed or \\\n",
    "            np.abs(df['W'][i])> m_speed or df['T'][i]< min_T:\n",
    "        print(\"--\"*15,\"LINE:\",i,\"--\"*15)\n",
    "        print(df.iloc[[i]])\n",
    "        indx.append(i)\n",
    "if len(indx) ==0:\n",
    "    print(\"Data fits these limits\")\n",
    "if len(indx)!= 0:\n",
    "    remove = input(\"Would you like to remove these lines? (y/n):\")\n",
    "    if remove.lower() == \"y\":\n",
    "        df = df.drop(df.index[indx])\n",
    "\n",
    "df.fillna(value=fill_nan, inplace=True)\n",
    "return df\n"
   ]
  },
  {
   "cell_type": "code",
   "execution_count": 29,
   "metadata": {},
   "outputs": [
    {
     "data": {
      "text/plain": [
       "float"
      ]
     },
     "execution_count": 29,
     "metadata": {},
     "output_type": "execute_result"
    }
   ],
   "source": [
    "type(u_fctr)"
   ]
  },
  {
   "cell_type": "code",
   "execution_count": 4,
   "metadata": {},
   "outputs": [
    {
     "ename": "KeyError",
     "evalue": "19184",
     "output_type": "error",
     "traceback": [
      "\u001b[0;31m---------------------------------------------------------------------------\u001b[0m",
      "\u001b[0;31mKeyError\u001b[0m                                  Traceback (most recent call last)",
      "\u001b[0;32m<ipython-input-4-cbe1f6d50aa1>\u001b[0m in \u001b[0;36m<module>\u001b[0;34m\u001b[0m\n\u001b[1;32m      1\u001b[0m \u001b[0mindx\u001b[0m \u001b[0;34m=\u001b[0m \u001b[0;34m[\u001b[0m\u001b[0;34m]\u001b[0m\u001b[0;34m\u001b[0m\u001b[0;34m\u001b[0m\u001b[0m\n\u001b[1;32m      2\u001b[0m \u001b[0;32mfor\u001b[0m \u001b[0mi\u001b[0m \u001b[0;32min\u001b[0m \u001b[0mrange\u001b[0m\u001b[0;34m(\u001b[0m\u001b[0mlen\u001b[0m\u001b[0;34m(\u001b[0m\u001b[0mdf\u001b[0m\u001b[0;34m)\u001b[0m\u001b[0;34m)\u001b[0m\u001b[0;34m:\u001b[0m\u001b[0;34m\u001b[0m\u001b[0;34m\u001b[0m\u001b[0m\n\u001b[0;32m----> 3\u001b[0;31m     \u001b[0;32mif\u001b[0m \u001b[0mnp\u001b[0m\u001b[0;34m.\u001b[0m\u001b[0mabs\u001b[0m\u001b[0;34m(\u001b[0m\u001b[0mdf\u001b[0m\u001b[0;34m[\u001b[0m\u001b[0;34m\"U\"\u001b[0m\u001b[0;34m]\u001b[0m\u001b[0;34m[\u001b[0m\u001b[0mi\u001b[0m\u001b[0;34m]\u001b[0m\u001b[0;34m)\u001b[0m \u001b[0;34m>\u001b[0m \u001b[0mm_speed\u001b[0m \u001b[0;32mor\u001b[0m \u001b[0mnp\u001b[0m\u001b[0;34m.\u001b[0m\u001b[0mabs\u001b[0m\u001b[0;34m(\u001b[0m\u001b[0mdf\u001b[0m\u001b[0;34m[\u001b[0m\u001b[0;34m\"V\"\u001b[0m\u001b[0;34m]\u001b[0m\u001b[0;34m[\u001b[0m\u001b[0mi\u001b[0m\u001b[0;34m]\u001b[0m\u001b[0;34m)\u001b[0m\u001b[0;34m>\u001b[0m \u001b[0mm_speed\u001b[0m \u001b[0;32mor\u001b[0m\u001b[0;31m \u001b[0m\u001b[0;31m\\\u001b[0m\u001b[0;34m\u001b[0m\u001b[0;34m\u001b[0m\u001b[0m\n\u001b[0m\u001b[1;32m      4\u001b[0m             \u001b[0mnp\u001b[0m\u001b[0;34m.\u001b[0m\u001b[0mabs\u001b[0m\u001b[0;34m(\u001b[0m\u001b[0mdf\u001b[0m\u001b[0;34m[\u001b[0m\u001b[0;34m'W'\u001b[0m\u001b[0;34m]\u001b[0m\u001b[0;34m[\u001b[0m\u001b[0mi\u001b[0m\u001b[0;34m]\u001b[0m\u001b[0;34m)\u001b[0m\u001b[0;34m>\u001b[0m \u001b[0mm_speed\u001b[0m \u001b[0;32mor\u001b[0m \u001b[0mdf\u001b[0m\u001b[0;34m[\u001b[0m\u001b[0;34m'T'\u001b[0m\u001b[0;34m]\u001b[0m\u001b[0;34m[\u001b[0m\u001b[0mi\u001b[0m\u001b[0;34m]\u001b[0m\u001b[0;34m<\u001b[0m \u001b[0mmin_T\u001b[0m\u001b[0;34m:\u001b[0m\u001b[0;34m\u001b[0m\u001b[0;34m\u001b[0m\u001b[0m\n\u001b[1;32m      5\u001b[0m         \u001b[0mprint\u001b[0m\u001b[0;34m(\u001b[0m\u001b[0;34m\"--\"\u001b[0m\u001b[0;34m*\u001b[0m\u001b[0;36m30\u001b[0m\u001b[0;34m)\u001b[0m\u001b[0;34m\u001b[0m\u001b[0;34m\u001b[0m\u001b[0m\n",
      "\u001b[0;32m~/anaconda3/lib/python3.7/site-packages/pandas/core/series.py\u001b[0m in \u001b[0;36m__getitem__\u001b[0;34m(self, key)\u001b[0m\n\u001b[1;32m    866\u001b[0m         \u001b[0mkey\u001b[0m \u001b[0;34m=\u001b[0m \u001b[0mcom\u001b[0m\u001b[0;34m.\u001b[0m\u001b[0mapply_if_callable\u001b[0m\u001b[0;34m(\u001b[0m\u001b[0mkey\u001b[0m\u001b[0;34m,\u001b[0m \u001b[0mself\u001b[0m\u001b[0;34m)\u001b[0m\u001b[0;34m\u001b[0m\u001b[0;34m\u001b[0m\u001b[0m\n\u001b[1;32m    867\u001b[0m         \u001b[0;32mtry\u001b[0m\u001b[0;34m:\u001b[0m\u001b[0;34m\u001b[0m\u001b[0;34m\u001b[0m\u001b[0m\n\u001b[0;32m--> 868\u001b[0;31m             \u001b[0mresult\u001b[0m \u001b[0;34m=\u001b[0m \u001b[0mself\u001b[0m\u001b[0;34m.\u001b[0m\u001b[0mindex\u001b[0m\u001b[0;34m.\u001b[0m\u001b[0mget_value\u001b[0m\u001b[0;34m(\u001b[0m\u001b[0mself\u001b[0m\u001b[0;34m,\u001b[0m \u001b[0mkey\u001b[0m\u001b[0;34m)\u001b[0m\u001b[0;34m\u001b[0m\u001b[0;34m\u001b[0m\u001b[0m\n\u001b[0m\u001b[1;32m    869\u001b[0m \u001b[0;34m\u001b[0m\u001b[0m\n\u001b[1;32m    870\u001b[0m             \u001b[0;32mif\u001b[0m \u001b[0;32mnot\u001b[0m \u001b[0mis_scalar\u001b[0m\u001b[0;34m(\u001b[0m\u001b[0mresult\u001b[0m\u001b[0;34m)\u001b[0m\u001b[0;34m:\u001b[0m\u001b[0;34m\u001b[0m\u001b[0;34m\u001b[0m\u001b[0m\n",
      "\u001b[0;32m~/anaconda3/lib/python3.7/site-packages/pandas/core/indexes/base.py\u001b[0m in \u001b[0;36mget_value\u001b[0;34m(self, series, key)\u001b[0m\n\u001b[1;32m   4373\u001b[0m         \u001b[0;32mtry\u001b[0m\u001b[0;34m:\u001b[0m\u001b[0;34m\u001b[0m\u001b[0;34m\u001b[0m\u001b[0m\n\u001b[1;32m   4374\u001b[0m             return self._engine.get_value(s, k,\n\u001b[0;32m-> 4375\u001b[0;31m                                           tz=getattr(series.dtype, 'tz', None))\n\u001b[0m\u001b[1;32m   4376\u001b[0m         \u001b[0;32mexcept\u001b[0m \u001b[0mKeyError\u001b[0m \u001b[0;32mas\u001b[0m \u001b[0me1\u001b[0m\u001b[0;34m:\u001b[0m\u001b[0;34m\u001b[0m\u001b[0;34m\u001b[0m\u001b[0m\n\u001b[1;32m   4377\u001b[0m             \u001b[0;32mif\u001b[0m \u001b[0mlen\u001b[0m\u001b[0;34m(\u001b[0m\u001b[0mself\u001b[0m\u001b[0;34m)\u001b[0m \u001b[0;34m>\u001b[0m \u001b[0;36m0\u001b[0m \u001b[0;32mand\u001b[0m \u001b[0;34m(\u001b[0m\u001b[0mself\u001b[0m\u001b[0;34m.\u001b[0m\u001b[0mholds_integer\u001b[0m\u001b[0;34m(\u001b[0m\u001b[0;34m)\u001b[0m \u001b[0;32mor\u001b[0m \u001b[0mself\u001b[0m\u001b[0;34m.\u001b[0m\u001b[0mis_boolean\u001b[0m\u001b[0;34m(\u001b[0m\u001b[0;34m)\u001b[0m\u001b[0;34m)\u001b[0m\u001b[0;34m:\u001b[0m\u001b[0;34m\u001b[0m\u001b[0;34m\u001b[0m\u001b[0m\n",
      "\u001b[0;32mpandas/_libs/index.pyx\u001b[0m in \u001b[0;36mpandas._libs.index.IndexEngine.get_value\u001b[0;34m()\u001b[0m\n",
      "\u001b[0;32mpandas/_libs/index.pyx\u001b[0m in \u001b[0;36mpandas._libs.index.IndexEngine.get_value\u001b[0;34m()\u001b[0m\n",
      "\u001b[0;32mpandas/_libs/index.pyx\u001b[0m in \u001b[0;36mpandas._libs.index.IndexEngine.get_loc\u001b[0;34m()\u001b[0m\n",
      "\u001b[0;32mpandas/_libs/hashtable_class_helper.pxi\u001b[0m in \u001b[0;36mpandas._libs.hashtable.Int64HashTable.get_item\u001b[0;34m()\u001b[0m\n",
      "\u001b[0;32mpandas/_libs/hashtable_class_helper.pxi\u001b[0m in \u001b[0;36mpandas._libs.hashtable.Int64HashTable.get_item\u001b[0;34m()\u001b[0m\n",
      "\u001b[0;31mKeyError\u001b[0m: 19184"
     ]
    }
   ],
   "source": [
    "indx = []\n",
    "for i in range(len(df)):\n",
    "    if np.abs(df[\"U\"][i]) > m_speed or np.abs(df[\"V\"][i])> m_speed or \\\n",
    "            np.abs(df['W'][i])> m_speed or df['T'][i]< min_T:\n",
    "        print(\"--\"*30)\n",
    "        print(df.iloc[[i]])\n",
    "        indx.append(i)\n",
    "if len(indx) ==0:\n",
    "    print(\"Data fits these limits\")\n",
    "if len(indx)!= 0:\n",
    "    remove = input(\"Would you like to remove this data? (y/n):\")\n",
    "    if remove.lower() == \"y\":\n",
    "        df = df.drop(df.index[indx])"
   ]
  },
  {
   "cell_type": "code",
   "execution_count": null,
   "metadata": {},
   "outputs": [],
   "source": []
  }
 ],
 "metadata": {
  "kernelspec": {
   "display_name": "Python 3",
   "language": "python",
   "name": "python3"
  },
  "language_info": {
   "codemirror_mode": {
    "name": "ipython",
    "version": 3
   },
   "file_extension": ".py",
   "mimetype": "text/x-python",
   "name": "python",
   "nbconvert_exporter": "python",
   "pygments_lexer": "ipython3",
   "version": "3.7.3"
  }
 },
 "nbformat": 4,
 "nbformat_minor": 2
}
