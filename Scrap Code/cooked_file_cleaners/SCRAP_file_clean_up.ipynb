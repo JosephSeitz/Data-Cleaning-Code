{
 "cells": [
  {
   "cell_type": "code",
   "execution_count": 46,
   "metadata": {},
   "outputs": [],
   "source": [
    "### Tools used for clean up\n",
    "import numpy as np\n",
    "import pandas as pd"
   ]
  },
  {
   "cell_type": "code",
   "execution_count": 47,
   "metadata": {},
   "outputs": [],
   "source": [
    "#linux_p = \"/home/joey/Desktop/File_Clean_Up/uncleaned/TOA5_2879.ts_data.dat\"\n",
    "#path = 'http://35.12.130.8/study/2018-SERDP/10_ckd_burn07_2018/TOA5_2879.ts_data.dat'\n",
    "path = \"http://35.12.130.8/study/2018-SERDP/10_ckd_burn07_2018/\"\n",
    "file = \"TOA5_4976.ts_data.dat\""
   ]
  },
  {
   "cell_type": "code",
   "execution_count": 48,
   "metadata": {},
   "outputs": [
    {
     "name": "stdout",
     "output_type": "stream",
     "text": [
      "How many title rows are there in the file?:5\n",
      "What value to use for NaN values? ex: (999):999\n",
      "DateFile loaded:\n",
      "               0       1      2      3      4    5      6      7      8   \\\n",
      "0         20:21.6  347435  11.74  21.03  20.65  999  21.91  21.54  20.72   \n",
      "1         20:21.7  347436  11.95  21.01  20.57  999  21.81  21.57  20.70   \n",
      "2         20:21.8  347437  12.44  21.04  20.56  999  21.90  21.69  20.72   \n",
      "3         20:21.9  347438  12.91  21.03  20.62  999  22.00  21.66  20.69   \n",
      "4  5/9/2018 10:20  347439  13.07  21.04  20.66  999  22.14  21.80  20.72   \n",
      "\n",
      "      9      10     11     12     13     14     15  \n",
      "0  21.95  21.23  21.31  20.03  20.41  18.30  17.38  \n",
      "1  21.92  21.05  20.94  19.82  20.27  18.33  17.40  \n",
      "2  21.94  20.81  20.73  19.67  20.18  18.28  17.49  \n",
      "3  21.99  20.68  20.53  19.59  20.14  18.23  17.52  \n",
      "4  22.23  20.68  20.45  19.54  20.19  18.22  17.51  \n",
      "First time stamp: (MM/DD/YYY hr:min) : 5/9/2018 10:20\n"
     ]
    }
   ],
   "source": [
    "\n",
    "skipper= int(input(\"How many title rows are there in the file?:\"))\n",
    "df=pd.read_csv(path+file, sep= \"\\t\", header=None, skiprows=skipper, na_values='NAN')\n",
    "value = input(\"What value to use for NaN values? ex: (999):\")\n",
    "df.fillna(value=value, inplace=True)\n",
    "    \n",
    "print(\"DateFile loaded:\")\n",
    "print(df.head())\n",
    "\n",
    "### Atempting to find the intial starting points \n",
    "\n",
    "first_colm = df[0]\n",
    "for i in range(len(first_colm)):\n",
    "    if  len(first_colm[i])>8:\n",
    "        intial = first_colm[i]\n",
    "        break\n",
    "### Parcing them to be useable\n",
    "inital_list = intial.replace(\"/\", \",\").replace(\":\",\",\").replace(\" \",\",\")\n",
    "inital_list = inital_list.split(\",\")\n",
    "\n",
    "print(\"First time stamp: (MM/DD/YYY hr:min) :\",intial)\n",
    "\n"
   ]
  },
  {
   "cell_type": "code",
   "execution_count": 86,
   "metadata": {},
   "outputs": [
    {
     "name": "stdout",
     "output_type": "stream",
     "text": [
      "Year Pulled: 2018\n",
      "Is this the correct year? (y/n):y\n",
      "Month Pulled: 5\n",
      "Is this the correct month? (y/n):y\n",
      "Day Pulled : 9\n",
      "Is this the correct day? (y/n):y\n",
      "Is the time step 10 per second? (y/n):y\n",
      "Starting hour pulled: 10\n",
      "Is this the correct start hour? (y/n):y\n",
      "Second Start: 21.6\n",
      "Is this the correct starting second? (y/n):y\n",
      "Minute Start: 20.0\n",
      "Is this the correct starting minute? (y/n):y\n"
     ]
    }
   ],
   "source": [
    "###    Year Column    ####\n",
    "print(\"Year Pulled:\",inital_list[2])\n",
    "correct_year=input(\"Is this the correct year? (y/n):\")\n",
    "if correct_year.lower()== \"y\":\n",
    "    year_list = np.full((len(df)),inital_list[2])\n",
    "if correct_year.lower() != \"y\":\n",
    "    year= input(\"What is the correct year? :\")\n",
    "    year_list = np.full((len(df)),year)\n",
    "\n",
    "###   Month Column   ####\n",
    "print(\"Month Pulled:\",inital_list[0])\n",
    "correct_month=input(\"Is this the correct month? (y/n):\")\n",
    "if correct_month.lower() == \"y\":\n",
    "    month_list = np.full((len(df)),int(inital_list[0]))\n",
    "if correct_month != \"y\":\n",
    "    month= input(\"What is the correct month? :\")\n",
    "    month_list = np.full((len(df)),int(month))\n",
    "    \n",
    "###     Day Column    ####\n",
    "print(\"Day Pulled :\",inital_list[1])\n",
    "correct_day=input(\"Is this the correct day? (y/n):\")\n",
    "if correct_day.lower() == \"y\":\n",
    "    day_list = np.full((len(df)),int(inital_list[1]))\n",
    "if correct_day != \"y\":\n",
    "    day= input(\"What is the correct day? :\")\n",
    "    day_list = np.full((len(df)),day)\n",
    "    \n",
    "###     Time Step     ####\n",
    "step=input(\"Is the time step 10 per second? (y/n):\")\n",
    "if step.lower() == \"y\":\n",
    "    steps_sec = 10\n",
    "if step.lower() != \"y\":\n",
    "    steps_sec = float(input(\"How many observations per second: (##)\"))\n",
    "    \n",
    "###    Hour inital     ###\n",
    "print(\"Starting hour pulled:\",inital_list[3])\n",
    "correct_hour=input(\"Is this the correct start hour? (y/n):\")\n",
    "if correct_hour.lower() == \"y\":\n",
    "    hour_i=float(inital_list[3])\n",
    "if correct_hour != \"y\":\n",
    "    hour_i= float(input(\"What is the correct start hour? (##):\"))\n",
    "\n",
    "###    Second inital    ####    \n",
    "second_i = round(float(df[0][1].split(\":\")[1])-1/steps_sec,2)    \n",
    "print(\"Second Start:\", second_i)    \n",
    "correct_second=input(\"Is this the correct starting second? (y/n):\")\n",
    "if correct_second.lower() == \"y\":\n",
    "    second_i=second_i\n",
    "if correct_second != \"y\":\n",
    "    second_i= input(\"What is the correct start hour? (##.#):\")\n",
    "    \n",
    "###    Minute inital    #####\n",
    "min_i = float(df[0][1].split(':')[0])   \n",
    "print(\"Minute Start:\", min_i)    \n",
    "correct_min=input(\"Is this the correct starting minute? (y/n):\")\n",
    "if correct_min.lower() == \"y\":\n",
    "    min_i=min_i\n",
    "if correct_min != \"y\":\n",
    "    min_i= float(input(\"What is the correct start minute? (##):\"))"
   ]
  },
  {
   "cell_type": "code",
   "execution_count": 158,
   "metadata": {},
   "outputs": [
    {
     "name": "stdout",
     "output_type": "stream",
     "text": [
      "Cleaned dataframe:\n",
      "       #      t_0  YYYY  MM  DD Hour Min   Sec Temp_C(1)  Temp_C(2)  ...  \\\n",
      "0  00000  00000.0  2018  05  09   10  20  21.6     11.74      21.03  ...   \n",
      "1  00001  00000.1  2018  05  09   10  20  21.7     11.95      21.01  ...   \n",
      "2  00002  00000.2  2018  05  09   10  20  21.8     12.44      21.04  ...   \n",
      "3  00003  00000.3  2018  05  09   10  20  21.9     12.91      21.03  ...   \n",
      "4  00004  00000.4  2018  05  09   10  20  22.0     13.07      21.04  ...   \n",
      "\n",
      "   Temp_C(5) Temp_C(6)  Temp_C(7)  Temp_C(8)  Temp_C(9) Temp_C(10) Temp_C(11)  \\\n",
      "0      21.91     21.54      20.72      21.95      21.23      21.31      20.03   \n",
      "1      21.81     21.57      20.70      21.92      21.05      20.94      19.82   \n",
      "2      21.90     21.69      20.72      21.94      20.81      20.73      19.67   \n",
      "3      22.00     21.66      20.69      21.99      20.68      20.53      19.59   \n",
      "4      22.14     21.80      20.72      22.23      20.68      20.45      19.54   \n",
      "\n",
      "   Temp_C(12)  Temp_C(13)  Temp_C(14)  \n",
      "0       20.41       18.30       17.38  \n",
      "1       20.27       18.33       17.40  \n",
      "2       20.18       18.28       17.49  \n",
      "3       20.14       18.23       17.52  \n",
      "4       20.19       18.22       17.51  \n",
      "\n",
      "[5 rows x 22 columns]\n",
      "Index(['#', 't_0', 'YYYY', 'MM', 'DD', 'Hour', 'Min', 'Sec', 'Temp_C(1)',\n",
      "       'Temp_C(2)', 'Temp_C(3)', 'Temp_C(4)', 'Temp_C(5)', 'Temp_C(6)',\n",
      "       'Temp_C(7)', 'Temp_C(8)', 'Temp_C(9)', 'Temp_C(10)', 'Temp_C(11)',\n",
      "       'Temp_C(12)', 'Temp_C(13)', 'Temp_C(14)'],\n",
      "      dtype='object')\n"
     ]
    }
   ],
   "source": [
    "###    Creating the columns for seconds, minutes, and hours   ######\n",
    "counter = []\n",
    "for i in range(len(df)):\n",
    "    counter.append(df[1][i]-df[1][0])\n",
    "    \n",
    "seconds,seconds_lst, minutes, hours = list(np.zeros(len(df))), list(np.zeros(len(df))), list(np.zeros(len(df))),list(np.zeros(len(df)))\n",
    "t_list= list(np.zeros(len(df)))\n",
    "for i in range(len(counter)):\n",
    "    t_list[i] = str((round((float(counter[i])*(1/steps_sec)),2)))\n",
    "    seconds[i]=(round((float(counter[i])*(1/steps_sec)+second_i),2))\n",
    "\n",
    "for i in range(len(df)):\n",
    "    value= seconds[i]-(seconds[i]//60)*60\n",
    "    seconds_lst[i] = str(round(value, 2))\n",
    "\n",
    "for i in range(len(df)):\n",
    "    value = (seconds[i]//60+min_i)\n",
    "    minutes[i] = int(value-(value//60)*60)\n",
    "        \n",
    "for i in range(len(df)):\n",
    "    value = (seconds[i]//3600 + hour_i)\n",
    "    hours[i] = int(value-(value//60)*60)\n",
    "for i in range(len(counter)):\n",
    "    counter[i] = str(counter[i])\n",
    "\n",
    "#print(counter)\n",
    "####    Write create the new df   ####\n",
    "df_write = pd.DataFrame()\n",
    "df_write[\"#\"] = counter\n",
    "df_write[\"t_0\"] = t_list\n",
    "df_write[\"YYYY\"] = year_list\n",
    "df_write[\"MM\"] = month_list\n",
    "df_write[\"DD\"] = day_list\n",
    "df_write[\"Hour\"] = hours\n",
    "df_write[\"Min\"] = minutes\n",
    "df_write[\"Sec\"] = seconds_lst\n",
    "\n",
    "df_write[\"MM\"] = df_write['MM'].map(\"{:02d}\".format)\n",
    "df_write[\"DD\"] = df_write['DD'].map(\"{:02d}\".format)\n",
    "df_write[\"Min\"] = df_write['Min'].map(\"{:02d}\".format)\n",
    "df_write[\"Hour\"] = df_write['Hour'].map(\"{:02d}\".format)\n",
    "df_write[\"#\"] =df_write[\"#\"].str.zfill(len(counter[-1]))\n",
    "df_write[\"Sec\"] = df_write['Sec'].str.zfill(4)\n",
    "df_write[\"t_0\"] = df_write['t_0'].str.zfill(7)\n",
    "\n",
    "column_headers= [\"#\",\"t_0\",\"YYYY\",\"MM\",\"DD\",\"Hour\",\"Min\",\"Sec\"]\n",
    "df_1 = pd.read_csv(path+file, sep= \"\\t\",skiprows =1)\n",
    "column_headers= column_headers + list(df_1.columns)[2:]\n",
    "\n",
    "for i in range(2,(len(df.columns))):\n",
    "    df_write[i+7] = df[i]\n",
    "\n",
    "df_write.columns=column_headers\n",
    "print(\"Cleaned dataframe:\")\n",
    "print(df_write.head())\n",
    "print(df_write.columns)"
   ]
  },
  {
   "cell_type": "code",
   "execution_count": 159,
   "metadata": {},
   "outputs": [],
   "source": [
    "read=['observation (#)' ,'time from start(t_list)', 'Year (YYYY)','month (MM)','Day (DD)','Hour','Min','Sec']\n",
    "read +=list(df_write.columns[7:])\n",
    "\n",
    "with open(\"read_me.txt\", \"w\") as output:\n",
    "    output.write(\"Column_headers\"+ str(read))"
   ]
  },
  {
   "cell_type": "code",
   "execution_count": 160,
   "metadata": {},
   "outputs": [],
   "source": [
    "### Time to save the cleaned file ###\n",
    "file_name =  file[:-4]+'_cleaned.txt'\n",
    "df_write.to_csv(file_name, sep='\\t', index=False, header=False)"
   ]
  },
  {
   "cell_type": "code",
   "execution_count": null,
   "metadata": {},
   "outputs": [],
   "source": [
    "file_path = 'http://35.12.130.8/study/2018-SERDP/10_ckd_burn07_2018/TOA5_2879.ts_data.dat'\n",
    "print(file_path.split(\"/\")[-1][:-4])"
   ]
  },
  {
   "cell_type": "code",
   "execution_count": null,
   "metadata": {},
   "outputs": [],
   "source": [
    "save_path = \"/home/joey/Desktop/File_Clean_Up/Burn_7/\"\n",
    "df_write.to_csv(save_path+file_name, sep='\\t', index=False, header=False)"
   ]
  },
  {
   "cell_type": "code",
   "execution_count": 92,
   "metadata": {},
   "outputs": [],
   "source": [
    "v=5.10000\n",
    "#print('{ 6.2f}'.format(00000.00000))\n",
    "#print(\"{0:0=2}\".format(v)) "
   ]
  },
  {
   "cell_type": "code",
   "execution_count": 133,
   "metadata": {},
   "outputs": [
    {
     "data": {
      "text/plain": [
       "'05.1'"
      ]
     },
     "execution_count": 133,
     "metadata": {},
     "output_type": "execute_result"
    }
   ],
   "source": [
    "str(v).zfill(4)"
   ]
  },
  {
   "cell_type": "code",
   "execution_count": null,
   "metadata": {},
   "outputs": [],
   "source": []
  }
 ],
 "metadata": {
  "kernelspec": {
   "display_name": "Python 3",
   "language": "python",
   "name": "python3"
  },
  "language_info": {
   "codemirror_mode": {
    "name": "ipython",
    "version": 3
   },
   "file_extension": ".py",
   "mimetype": "text/x-python",
   "name": "python",
   "nbconvert_exporter": "python",
   "pygments_lexer": "ipython3",
   "version": "3.7.3"
  }
 },
 "nbformat": 4,
 "nbformat_minor": 2
}
